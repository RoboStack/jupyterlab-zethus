{
 "cells": [
  {
   "cell_type": "code",
   "execution_count": 1,
   "metadata": {},
   "outputs": [],
   "source": [
    "import moveit_commander\n",
    "import rospy\n",
    "import ipywidgets as ipw"
   ]
  },
  {
   "cell_type": "code",
   "execution_count": 2,
   "metadata": {},
   "outputs": [],
   "source": [
    "moveit_commander.roscpp_initialize([])\n",
    "rospy.init_node('move_group_python_interface_tutorial', anonymous=True)"
   ]
  },
  {
   "cell_type": "code",
   "execution_count": 3,
   "metadata": {},
   "outputs": [],
   "source": [
    "robot = moveit_commander.RobotCommander()\n",
    "scene = moveit_commander.PlanningSceneInterface()\n",
    "group = moveit_commander.MoveGroupCommander(\"arm\")"
   ]
  },
  {
   "cell_type": "code",
   "execution_count": 4,
   "metadata": {},
   "outputs": [],
   "source": [
    "planning_grid = ipw.GridspecLayout(3, 3)\n",
    "planning_grid.grid_gap = '10px'"
   ]
  },
  {
   "cell_type": "code",
   "execution_count": 5,
   "metadata": {},
   "outputs": [],
   "source": [
    "def get_vbox(description):\n",
    "    box = ipw.VBox()\n",
    "    box.layout.height = 'auto'\n",
    "    inner_box = ipw.VBox()\n",
    "    inner_box.layout.padding = '5px'\n",
    "    inner_box.layout.border = '1px solid #CCC'\n",
    "    inner_box.layout.height = '100%'\n",
    "    box.children = [ipw.Label(value=description), inner_box]\n",
    "    return box, inner_box"
   ]
  },
  {
   "cell_type": "code",
   "execution_count": 6,
   "metadata": {},
   "outputs": [],
   "source": [
    "planning_grid[0:2, 0], commands_box = get_vbox('Commands')\n",
    "\n",
    "label_commands_box = ipw.Label(value='Commands')\n",
    "plan_btn = ipw.Button(description='Plan', layout=ipw.Layout(width='auto'))\n",
    "execute_btn = ipw.Button(description='Execute', layout=ipw.Layout(width='auto'))\n",
    "plan_execute_btn = ipw.Button(description='Plan and Execute', layout=ipw.Layout(width='auto'))\n",
    "stop_btn = ipw.Button(description='Stop', layout=ipw.Layout(width='auto'))\n",
    "label_execution_state = ipw.Label(value='Executed', layout=ipw.Layout(margin='10px', width='auto'))\n",
    "\n",
    "def on_plan_execute(msg):\n",
    "    group.set_joint_value_target(group.get_random_joint_values())\n",
    "    group.plan()\n",
    "    group.execute()\n",
    "\n",
    "plan_execute_btn.on_click(on_plan_execute)\n",
    "\n",
    "commands_box.children = [plan_btn, execute_btn, plan_execute_btn, stop_btn, label_execution_state]"
   ]
  },
  {
   "cell_type": "code",
   "execution_count": 7,
   "metadata": {},
   "outputs": [],
   "source": [
    "def get_floattext_widget(description, default_value):\n",
    "    wdg = ipw.FloatText(value=default_value, description=description, layout=ipw.Layout(width='auto'))\n",
    "    wdg.style.description_width = '75%'\n",
    "    return wdg"
   ]
  },
  {
   "cell_type": "code",
   "execution_count": 8,
   "metadata": {},
   "outputs": [],
   "source": [
    "planning_grid[2, 0:2], path_constraints_box = get_vbox('Path Constraints')\n",
    "\n",
    "constraints_dropdown = ipw.Dropdown(options=['None'], value='None', layout=ipw.Layout(width='auto'))\n",
    "goal_tolerance_input = get_floattext_widget('Goal Tolerance', 0.0)\n",
    "path_constraints_box.children = [constraints_dropdown, goal_tolerance_input]"
   ]
  },
  {
   "cell_type": "code",
   "execution_count": 9,
   "metadata": {},
   "outputs": [],
   "source": [
    "planning_grid[:, 2], options_box = get_vbox('Options')\n",
    "\n",
    "planning_time_input = get_floattext_widget('Planning Time (s):', 5.0)\n",
    "planning_attempts_input = get_floattext_widget('Planning Attempts:', 10.0)\n",
    "velocity_scaling_input = get_floattext_widget('Velocity Scaling:', 1.0)\n",
    "acceleration_scaling_input = get_floattext_widget('Acceleration Scaling:', 1.0)\n",
    "\n",
    "def get_bools(opts):\n",
    "    res = []\n",
    "    for o in opts:\n",
    "        ticker = ipw.ToggleButton(description=o)\n",
    "        ticker.layout.width = 'auto'\n",
    "        res.append(ticker)\n",
    "    return res\n",
    "\n",
    "tickers = get_bools(['Allow Replanning', 'Allow Sensor Positioning', 'Allow External Comm.', 'Use Cartesian Path', 'Use Collision-Aware IK', 'Allow Approx IK Solutions'])\n",
    "\n",
    "options_box.children = [planning_time_input, planning_attempts_input, velocity_scaling_input, acceleration_scaling_input] + tickers"
   ]
  },
  {
   "cell_type": "code",
   "execution_count": 10,
   "metadata": {},
   "outputs": [],
   "source": [
    "planning_grid[0:2, 1], query_box = get_vbox('Query')\n",
    "\n",
    "def get_dropdown_widget(options, description):\n",
    "    dd = ipw.Dropdown(options=options, value=options[0], description=description, layout=ipw.Layout(width='auto'))\n",
    "    dd.style.description_width = '50%'\n",
    "    return dd\n",
    "\n",
    "constraints_dropdown = get_dropdown_widget(['arm', 'endeffector'], 'Planning Group')\n",
    "start_state_dropdown = get_dropdown_widget(['<random valid>', '<random>', '<current>', '<same as goal>'], 'Start State')\n",
    "goal_state_dropdown = get_dropdown_widget(['<random valid>', '<random>', '<current>', '<same as start>'], 'Goal State')\n",
    "clear_octomap = ipw.Button(description='Clear Octomap')\n",
    "\n",
    "query_box.children = [constraints_dropdown, start_state_dropdown, goal_state_dropdown, clear_octomap]"
   ]
  },
  {
   "cell_type": "code",
   "execution_count": 11,
   "metadata": {},
   "outputs": [],
   "source": [
    "constraints_dropdown.description = 'Planning Group'\n",
    "constraints_dropdown.style.description_width = '50%'"
   ]
  },
  {
   "cell_type": "code",
   "execution_count": 12,
   "metadata": {},
   "outputs": [],
   "source": [
    "# planning_grid"
   ]
  },
  {
   "cell_type": "code",
   "execution_count": 13,
   "metadata": {},
   "outputs": [
    {
     "data": {
      "application/vnd.jupyter.widget-view+json": {
       "model_id": "da6eb524442e4715b6ede440dce285cb",
       "version_major": 2,
       "version_minor": 0
      },
      "text/plain": [
       "R3JpZHNwZWNMYXlvdXQoY2hpbGRyZW49KFZCb3goY2hpbGRyZW49KExhYmVsKHZhbHVlPXUnT01QTCcpLCBEcm9wZG93bihsYXlvdXQ9TGF5b3V0KHdpZHRoPXUnYXV0bycpLCBvcHRpb25zPSjigKY=\n"
      ]
     },
     "metadata": {},
     "output_type": "display_data"
    }
   ],
   "source": [
    "from moveit_msgs.srv import GetPlannerParams\n",
    "get_planner_params = rospy.ServiceProxy('/get_planner_params', GetPlannerParams)\n",
    "\n",
    "def try_float(val):\n",
    "    try:\n",
    "        return float(val)\n",
    "    except:\n",
    "        return None\n",
    "    \n",
    "def try_int(val):\n",
    "    try:\n",
    "        return int(val)\n",
    "    except:\n",
    "        return None\n",
    "    \n",
    "def get_params_box(planner_config, group):\n",
    "    box = ipw.VBox()\n",
    "    if planner_config == '<unspecified>':\n",
    "        return box\n",
    "    children = []\n",
    "    params = get_planner_params(planner_config=planner_config, group=group)\n",
    "    lay = ipw.Layout(width='auto')\n",
    "        \n",
    "    for el, val in zip(params.params.keys, params.params.values):\n",
    "        if try_float(val) is not None:\n",
    "            children.append(ipw.FloatText(description=el, value=float(val), layout=lay))\n",
    "        elif try_int(val) is not None:\n",
    "            children.append(ipw.IntText(description=el, value=int(val), layout=lay))\n",
    "        else:\n",
    "            children.append(ipw.Text(description=el, value=val, layout=lay))\n",
    "    for c in children:\n",
    "        c.style.description_width = '150px'\n",
    "    box.children = children\n",
    "    return box\n",
    "\n",
    "def get_planner_box(group):\n",
    "    box = ipw.VBox()\n",
    "    iface = group.get_interface_description()\n",
    "    label = ipw.Label(value=iface.name)\n",
    "    gname = group.get_name()\n",
    "    ids = iface.planner_ids\n",
    "    planners = []\n",
    "    for x in ids:\n",
    "        if x.startswith(gname) and '[' in x:\n",
    "            planners.append(x.split('[')[1][:-1])\n",
    "\n",
    "    param = '/move_group'\n",
    "    if group.get_name():\n",
    "        param += '/' + group.get_name()\n",
    "    param += '/default_planner_config'\n",
    "    \n",
    "    default_value = rospy.get_param(param)\n",
    "\n",
    "    planners.insert(0, '<unspecified>')\n",
    "\n",
    "    if default_value == 'None':\n",
    "        default_value = planners[0]\n",
    "\n",
    "    dropdown = ipw.Dropdown(options=planners, value=default_value, layout=ipw.Layout(width='auto'))\n",
    "    dropdown.style.description_width = '50%'\n",
    "    box.children = [label, dropdown]\n",
    "\n",
    "    subgrid = ipw.GridspecLayout(1, 2)\n",
    "    subgrid[0, 0] = box\n",
    "    subgrid[0, 1] = get_params_box(default_value, group.get_name())\n",
    "    \n",
    "    def lib_change(msg):\n",
    "        subgrid[0, 1] = get_params_box(dropdown.value, group.get_name())\n",
    "\n",
    "    dropdown.observe(lib_change, names='value')\n",
    "    subgrid.grid_gap = '20px'\n",
    "    return subgrid\n",
    "\n",
    "get_planner_box(group)"
   ]
  },
  {
   "cell_type": "code",
   "execution_count": 14,
   "metadata": {},
   "outputs": [],
   "source": [
    "context_box = ipw.GridspecLayout(1, 1)\n",
    "context_box.grid_gap = '10px'"
   ]
  },
  {
   "cell_type": "code",
   "execution_count": 15,
   "metadata": {},
   "outputs": [],
   "source": [
    "context_box[0, 0], planning_library_box = get_vbox('Planning Library')\n",
    "planning_library_box.children = [get_planner_box(group)]"
   ]
  },
  {
   "cell_type": "code",
   "execution_count": 16,
   "metadata": {},
   "outputs": [],
   "source": [
    "tab_contents = ['Context', 'Motion Planning']\n",
    "children = [ipw.Text(description=name) for name in tab_contents]\n",
    "tab = ipw.Tab()\n",
    "for i in range(len(children)):\n",
    "    tab.set_title(i, tab_contents[i])\n",
    "tab.children = [planning_library_box, planning_grid]"
   ]
  },
  {
   "cell_type": "code",
   "execution_count": 17,
   "metadata": {},
   "outputs": [
    {
     "data": {
      "application/vnd.jupyter.widget-view+json": {
       "model_id": "76b10dd16b4741fc8f1045c6bc9b66b6",
       "version_major": 2,
       "version_minor": 0
      },
      "text/plain": [
       "VGFiKGNoaWxkcmVuPShWQm94KGNoaWxkcmVuPShHcmlkc3BlY0xheW91dChjaGlsZHJlbj0oVkJveChjaGlsZHJlbj0oTGFiZWwodmFsdWU9dSdPTVBMJyksIERyb3Bkb3duKGxheW91dD1MYXnigKY=\n"
      ]
     },
     "metadata": {},
     "output_type": "display_data"
    }
   ],
   "source": [
    "tab"
   ]
  },
  {
   "cell_type": "code",
   "execution_count": null,
   "metadata": {},
   "outputs": [],
   "source": []
  }
 ],
 "metadata": {
  "kernelspec": {
   "display_name": "ROS Python 2",
   "language": "python",
   "name": "ros_python"
  },
  "language_info": {
   "codemirror_mode": {
    "name": "ipython",
    "version": 2
   },
   "file_extension": ".py",
   "mimetype": "text/x-python",
   "name": "python",
   "nbconvert_exporter": "python",
   "pygments_lexer": "ipython2",
   "version": "2.7.15+"
  }
 },
 "nbformat": 4,
 "nbformat_minor": 4
}
