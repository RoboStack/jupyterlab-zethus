{
 "cells": [
  {
   "cell_type": "code",
   "execution_count": 1,
   "metadata": {},
   "outputs": [],
   "source": [
    "import rospy as rp\n",
    "import numpy as np\n",
    "\n",
    "import moveit_ros_planning_interface as mrpi\n",
    "import tf2_geometry_msgs\n",
    "from trajectory_msgs.msg import JointTrajectory, JointTrajectoryPoint\n",
    "from moveit_msgs.msg import Grasp, PlaceLocation\n",
    "import moveit_commander as mc\n",
    "\n",
    "from geometry_msgs.msg import Pose, PoseStamped\n",
    "from shape_msgs.msg import SolidPrimitive\n",
    "import tf_conversions"
   ]
  },
  {
   "cell_type": "code",
   "execution_count": 2,
   "metadata": {},
   "outputs": [],
   "source": [
    "move_group = mc.MoveGroupCommander(\"arm\")"
   ]
  },
  {
   "cell_type": "code",
   "execution_count": 3,
   "metadata": {},
   "outputs": [
    {
     "data": {
      "text/plain": [
       "'ee_link'"
      ]
     },
     "execution_count": 3,
     "metadata": {},
     "output_type": "execute_result"
    }
   ],
   "source": [
    "move_group.get_active_joints()\n",
    "move_group.get_end_effector_link()"
   ]
  },
  {
   "cell_type": "code",
   "execution_count": 4,
   "metadata": {},
   "outputs": [],
   "source": [
    "robot = mc.RobotCommander()"
   ]
  },
  {
   "cell_type": "code",
   "execution_count": 5,
   "metadata": {},
   "outputs": [
    {
     "data": {
      "text/plain": [
       "joint_state: \n",
       "  header: \n",
       "    seq: 0\n",
       "    stamp: \n",
       "      secs: 0\n",
       "      nsecs:         0\n",
       "    frame_id: \"base_link\"\n",
       "  name: [shoulder_pan_joint, shoulder_lift_joint, elbow_joint, wrist_1_joint, wrist_2_joint,\n",
       "  wrist_3_joint, finger_joint, left_inner_finger_joint, left_inner_knuckle_joint,\n",
       "  right_inner_knuckle_joint, right_outer_knuckle_joint, right_inner_finger_joint]\n",
       "  position: [0.0, 0.0, 0.0, 0.0, 0.0, 0.0, 0.0, 0.0, 0.0, 0.0, 0.0, 0.0]\n",
       "  velocity: []\n",
       "  effort: []\n",
       "multi_dof_joint_state: \n",
       "  header: \n",
       "    seq: 0\n",
       "    stamp: \n",
       "      secs: 0\n",
       "      nsecs:         0\n",
       "    frame_id: \"base_link\"\n",
       "  joint_names: []\n",
       "  transforms: []\n",
       "  twist: []\n",
       "  wrench: []\n",
       "attached_collision_objects: []\n",
       "is_diff: False"
      ]
     },
     "execution_count": 5,
     "metadata": {},
     "output_type": "execute_result"
    }
   ],
   "source": [
    "robot.get_current_state()"
   ]
  },
  {
   "cell_type": "code",
   "execution_count": 6,
   "metadata": {},
   "outputs": [],
   "source": [
    "def open_gripper():\n",
    "    posture = JointTrajectory()\n",
    "    posture.joint_names = [\"finger_joint\"]\n",
    "    posture.points = [JointTrajectoryPoint()]\n",
    "    posture.points[0].positions = [0.0]\n",
    "    posture.points[0].time_from_start = rp.Duration(1)\n",
    "    return posture\n",
    "\n",
    "def close_gripper():\n",
    "    posture = JointTrajectory()\n",
    "    posture.joint_names = [\"finger_joint\"]\n",
    "    posture.points = [JointTrajectoryPoint()]\n",
    "    posture.points[0].positions = [0.7]\n",
    "    posture.points[0].time_from_start = rp.Duration(1)\n",
    "    return posture"
   ]
  },
  {
   "cell_type": "code",
   "execution_count": 7,
   "metadata": {},
   "outputs": [],
   "source": [
    "def place(move_group):\n",
    "    place_location = PlaceLocation()\n",
    "    place_location.place_pose.header.frame_id = \"base_link\"\n",
    "    q = tf_conversions.transformations.quaternion_from_euler(0, 0, np.pi / 2)\n",
    "    place_location.place_pose.pose.orientation.x = q[0]\n",
    "    place_location.place_pose.pose.orientation.y = q[1]\n",
    "    place_location.place_pose.pose.orientation.z = q[2]\n",
    "    place_location.place_pose.pose.orientation.w = q[3]\n",
    "    place_location.place_pose.pose.position.x = 0\n",
    "    place_location.place_pose.pose.position.y = 0.39\n",
    "    place_location.place_pose.pose.position.z = 0.50\n",
    "\n",
    "    # Setting pre-grasp approach\n",
    "    # Defined with respect to frame_id\n",
    "\n",
    "    place_location.pre_place_approach.direction.header.frame_id = \"base_link\"\n",
    "    # Direction is set as positive x axis\n",
    "    place_location.pre_place_approach.direction.vector.x = 1.0\n",
    "    place_location.pre_place_approach.min_distance = 0.095\n",
    "    place_location.pre_place_approach.desired_distance = 0.115\n",
    "\n",
    "    # Setting post-grasp retreat\n",
    "    # Defined with respect to frame_id\n",
    "    place_location.post_place_retreat.direction.header.frame_id = \"base_link\"\n",
    "    # Direction is set as positive z axis\n",
    "    place_location.post_place_retreat.direction.vector.y = -1.0\n",
    "    place_location.post_place_retreat.min_distance = 0.1\n",
    "    place_location.post_place_retreat.desired_distance = 0.25\n",
    "\n",
    "    # Setting posture of eef before grasp\n",
    "    place_location.post_place_posture = open_gripper()\n",
    "\n",
    "    # Set support surface as table1.\n",
    "    move_group.set_support_surface_name(\"table2\");\n",
    "    # Call pick to pick up the object using the grasps given\n",
    "    return move_group.place(\"object\", place_location)"
   ]
  },
  {
   "cell_type": "code",
   "execution_count": 8,
   "metadata": {},
   "outputs": [],
   "source": [
    "def pick(move_group):\n",
    "    grasps = [Grasp()]\n",
    "    \n",
    "    grasps[0].grasp_pose.header.frame_id = \"base_link\"\n",
    "    q = tf_conversions.transformations.quaternion_from_euler(-np.pi / 2, -np.pi / 4, -np.pi / 2)\n",
    "    grasps[0].grasp_pose.pose.orientation.x = q[0]\n",
    "    grasps[0].grasp_pose.pose.orientation.y = q[1]\n",
    "    grasps[0].grasp_pose.pose.orientation.z = q[2]\n",
    "    grasps[0].grasp_pose.pose.orientation.w = q[3]\n",
    "    grasps[0].grasp_pose.pose.position.x = 0.415\n",
    "    grasps[0].grasp_pose.pose.position.y = 0\n",
    "    grasps[0].grasp_pose.pose.position.z = 0.5\n",
    "\n",
    "    # Setting pre-grasp approach\n",
    "    # Defined with respect to frame_id\n",
    "\n",
    "    grasps[0].pre_grasp_approach.direction.header.frame_id = \"base_link\"\n",
    "    # Direction is set as positive x axis\n",
    "    grasps[0].pre_grasp_approach.direction.vector.x = 1.0\n",
    "    grasps[0].pre_grasp_approach.min_distance = 0.095\n",
    "    grasps[0].pre_grasp_approach.desired_distance = 0.115\n",
    "\n",
    "    # Setting post-grasp retreat\n",
    "    # Defined with respect to frame_id\n",
    "    grasps[0].post_grasp_retreat.direction.header.frame_id = \"base_link\"\n",
    "    # Direction is set as positive z axis\n",
    "    grasps[0].post_grasp_retreat.direction.vector.z = 1.0\n",
    "    grasps[0].post_grasp_retreat.min_distance = 0.1\n",
    "    grasps[0].post_grasp_retreat.desired_distance = 0.25\n",
    "\n",
    "    # Setting posture of eef before grasp\n",
    "    grasps[0].pre_grasp_posture = open_gripper()\n",
    "\n",
    "    # Setting posture of eef during grasp\n",
    "    grasps[0].grasp_posture = close_gripper()\n",
    "\n",
    "    # Set support surface as table1.\n",
    "    move_group.set_support_surface_name(\"table1\")\n",
    "    # Call pick to pick up the object using the grasps given\n",
    "    move_group.pick(\"object\", grasps)"
   ]
  },
  {
   "cell_type": "code",
   "execution_count": 9,
   "metadata": {},
   "outputs": [],
   "source": [
    "def add_collision_objects(planning_scene_interface):\n",
    "    # Creating Environment\n",
    "    # Create list to hold 3 collision objects.\n",
    "    t1_pose = PoseStamped()\n",
    "    t1_pose.header.frame_id = 'base_link'\n",
    "    t1_pose.pose.position.x = 0\n",
    "    t1_pose.pose.position.y = -0.5\n",
    "    t1_pose.pose.position.z = 0.2\n",
    "\n",
    "    # Add the first table where the cube will originally be kept.\n",
    "    planning_scene_interface.add_box(\"table1\", pose=t1_pose, size=(0.2, 0.4, 0.4))\n",
    "    \n",
    "    t2_pose = PoseStamped()\n",
    "    t2_pose.header.frame_id = 'base_link'\n",
    "    t2_pose.pose.position.x = 0\n",
    "    t2_pose.pose.position.y = 0.5\n",
    "    t2_pose.pose.position.z = 0.2\n",
    "    # Add the second table where we will be placing the cube.\n",
    "    planning_scene_interface.add_box(\"table2\", pose=t2_pose, size=(0.2, 0.4, 0.4))\n",
    "\n",
    "    o_pose = PoseStamped()\n",
    "    o_pose.header.frame_id = 'base_link'\n",
    "    \n",
    "    o_pose.pose.position.x = 0\n",
    "    o_pose.pose.position.y = -0.5\n",
    "    o_pose.pose.position.z = 0.5\n",
    "    # Define the object that we will be manipulating\n",
    "    planning_scene_interface.add_box(\"object\", pose=o_pose, size=(0.02, 0.02, 0.2))"
   ]
  },
  {
   "cell_type": "code",
   "execution_count": 10,
   "metadata": {},
   "outputs": [],
   "source": [
    "rp.init_node(\"picker\")\n",
    "planning_scene_interface = mc.PlanningSceneInterface()"
   ]
  },
  {
   "cell_type": "code",
   "execution_count": 11,
   "metadata": {},
   "outputs": [],
   "source": [
    "move_group.set_planning_time(45.0)"
   ]
  },
  {
   "cell_type": "code",
   "execution_count": 12,
   "metadata": {},
   "outputs": [],
   "source": [
    "add_collision_objects(planning_scene_interface)"
   ]
  },
  {
   "cell_type": "code",
   "execution_count": 13,
   "metadata": {},
   "outputs": [
    {
     "data": {
      "text/plain": [
       "['object', 'table1', 'table2']"
      ]
     },
     "execution_count": 13,
     "metadata": {},
     "output_type": "execute_result"
    }
   ],
   "source": [
    "planning_scene_interface.get_known_object_names()"
   ]
  },
  {
   "cell_type": "code",
   "execution_count": 14,
   "metadata": {},
   "outputs": [],
   "source": [
    "pick(move_group)"
   ]
  },
  {
   "cell_type": "code",
   "execution_count": 20,
   "metadata": {},
   "outputs": [
    {
     "data": {
      "text/plain": [
       "False"
      ]
     },
     "execution_count": 20,
     "metadata": {},
     "output_type": "execute_result"
    }
   ],
   "source": [
    "place(move_group)"
   ]
  },
  {
   "cell_type": "code",
   "execution_count": 15,
   "metadata": {},
   "outputs": [],
   "source": [
    "d = rp.Duration(0.5)\n",
    "for i in range(10):\n",
    "    t1_pose = PoseStamped()\n",
    "    t1_pose.header.frame_id = 'base_link'\n",
    "    t1_pose.pose.position.x = i / 5.\n",
    "    t1_pose.pose.position.y = 1.5\n",
    "    t1_pose.pose.position.z = 0.2\n",
    "    rp.sleep(d)\n",
    "    planning_scene_interface.add_box(\"funbox\", pose=t1_pose, size=(1, 1, 0.4))"
   ]
  },
  {
   "cell_type": "code",
   "execution_count": 16,
   "metadata": {},
   "outputs": [],
   "source": [
    "planning_scene_interface.remove_world_object('funbox')"
   ]
  },
  {
   "cell_type": "code",
   "execution_count": 27,
   "metadata": {},
   "outputs": [],
   "source": [
    "planning_scene_interface.remove_world_object('table1')"
   ]
  },
  {
   "cell_type": "code",
   "execution_count": 28,
   "metadata": {},
   "outputs": [],
   "source": [
    "planning_scene_interface.remove_world_object('table2')"
   ]
  }
 ],
 "metadata": {
  "kernelspec": {
   "display_name": "ROS Python 2",
   "language": "python",
   "name": "ros_python"
  },
  "language_info": {
   "codemirror_mode": {
    "name": "ipython",
    "version": 2
   },
   "file_extension": ".py",
   "mimetype": "text/x-python",
   "name": "python",
   "nbconvert_exporter": "python",
   "pygments_lexer": "ipython2",
   "version": "2.7.15+"
  }
 },
 "nbformat": 4,
 "nbformat_minor": 4
}
