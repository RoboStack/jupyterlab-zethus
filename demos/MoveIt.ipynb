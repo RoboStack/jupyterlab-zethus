{
 "cells": [
  {
   "cell_type": "code",
   "execution_count": 1,
   "metadata": {},
   "outputs": [
    {
     "name": "stdout",
     "output_type": "stream",
     "text": [
      "OK\n"
     ]
    }
   ],
   "source": [
    "use arm"
   ]
  },
  {
   "cell_type": "code",
   "execution_count": 4,
   "metadata": {},
   "outputs": [
    {
     "name": "stdout",
     "output_type": "stream",
     "text": [
      "Moved to random target [2.53802668448 1.6400170343 -2.01596844989 -0.700312104936 -1.40364802936 1.96569070871]\n"
     ]
    }
   ],
   "source": [
    "go rand"
   ]
  },
  {
   "cell_type": "code",
   "execution_count": 3,
   "metadata": {},
   "outputs": [
    {
     "name": "stdout",
     "output_type": "stream",
     "text": [
      "Known commands:\n",
      "  help                show this screen\n",
      "  allow looking <true|false>       enable/disable looking around\n",
      "  allow replanning <true|false>    enable/disable replanning\n",
      "  constrain           clear path constraints\n",
      "  constrain <name>    use the constraint <name> as a path constraint\n",
      "  current             show the current state of the active group\n",
      "  database            display the current database connection (if any)\n",
      "  delete <name>       forget the joint values under the name <name>\n",
      "  eef                 print the name of the end effector attached to the current group\n",
      "  execute             execute a previously computed motion plan\n",
      "  go <name>           plan and execute a motion to the state <name>\n",
      "  go rand             plan and execute a motion to a random state\n",
      "  go <dir> <dx>|      plan and execute a motion in direction up|down|left|right|forward|backward for distance <dx>\n",
      "  ground              add a ground plane to the planning scene\n",
      "  id|which            display the name of the group that is operated on\n",
      "  joints              display names of the joints in the active group\n",
      "  load [<file>]       load a set of interpreted commands from a file\n",
      "  pick <name>         pick up object <name>\n",
      "  place <name>        place object <name>\n",
      "  plan <name>         plan a motion to the state <name>\n",
      "  plan rand           plan a motion to a random state\n",
      "  planner <name>      use planner <name> to plan next motion\n",
      "  record <name>       record the current joint values under the name <name>\n",
      "  rotate <x> <y> <z>  plan and execute a motion to a specified orientation (about the X,Y,Z axes)\n",
      "  save [<file>]       save the currently known variables as a set of commands\n",
      "  show                display the names and values of the known states\n",
      "  show <name>         display the value of a state\n",
      "  stop                stop the active group\n",
      "  time                show the configured allowed planning time\n",
      "  time <val>          set the allowed planning time\n",
      "  tolerance           show the tolerance for reaching the goal region\n",
      "  tolerance <val>     set the tolerance for reaching the goal region\n",
      "  trace <on|off>      enable/disable replanning or looking around\n",
      "  use <name>          switch to using the group named <name> (and load it if necessary)\n",
      "  use|groups          show the group names that are already loaded\n",
      "  vars                display the names of the known states\n",
      "  wait <dt>           sleep for <dt> seconds\n",
      "  x = y               assign the value of y to x\n",
      "  x = [v1 v2...]      assign a vector of values to x\n",
      "  x[idx] = val        assign a value to dimension idx of x\n",
      "\n",
      "No groups initialized yet. You must call the 'use' or the 'load' command first.\n"
     ]
    }
   ],
   "source": [
    "pick my_object"
   ]
  },
  {
   "cell_type": "code",
   "execution_count": 11,
   "metadata": {},
   "outputs": [
    {
     "name": "stdout",
     "output_type": "stream",
     "text": [
      "Moved forward by 0.2 m\n"
     ]
    }
   ],
   "source": [
    "go forward 0.2"
   ]
  },
  {
   "cell_type": "code",
   "execution_count": null,
   "metadata": {},
   "outputs": [],
   "source": []
  }
 ],
 "metadata": {
  "kernelspec": {
   "display_name": "MoveIt",
   "language": "text",
   "name": "echo"
  },
  "language_info": {
   "file_extension": ".moveit",
   "mimetype": "text/plain",
   "name": "Any text"
  }
 },
 "nbformat": 4,
 "nbformat_minor": 4
}
